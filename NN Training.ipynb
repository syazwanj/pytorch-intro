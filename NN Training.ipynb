{
 "cells": [
  {
   "cell_type": "code",
   "execution_count": 1,
   "metadata": {},
   "outputs": [],
   "source": [
    "import torch\n",
    "import torchvision\n",
    "from torchvision import transforms, datasets\n",
    "import torch.nn as nn\n",
    "import torch.nn.functional as F"
   ]
  },
  {
   "cell_type": "code",
   "execution_count": 9,
   "metadata": {},
   "outputs": [],
   "source": [
    "train = datasets.MNIST('',train=True,download=True, transform = transforms.Compose([transforms.ToTensor()]))\n",
    "\n",
    "test = datasets.MNIST('',train=False,download=True, transform = transforms.Compose([transforms.ToTensor()]))\n",
    "\n",
    "trainset = torch.utils.data.DataLoader(train,batch_size=10, shuffle=True)\n",
    "testset = torch.utils.data.DataLoader(test,batch_size=10, shuffle=False)"
   ]
  },
  {
   "cell_type": "code",
   "execution_count": 10,
   "metadata": {},
   "outputs": [
    {
     "name": "stdout",
     "output_type": "stream",
     "text": [
      "Net(\n",
      "  (fc1): Linear(in_features=784, out_features=64, bias=True)\n",
      "  (fc2): Linear(in_features=64, out_features=64, bias=True)\n",
      "  (fc3): Linear(in_features=64, out_features=64, bias=True)\n",
      "  (fc4): Linear(in_features=64, out_features=10, bias=True)\n",
      ")\n"
     ]
    }
   ],
   "source": [
    "class Net(nn.Module):\n",
    "    \n",
    "    def __init__(self):\n",
    "        super().__init__() #super() ensures that the init fn in parent class is run\n",
    "        self.fc1 = nn.Linear(28*28,64) #fc1 is first connection 1. 28*28 is the flattened image size. Linear because linear nn\n",
    "        self.fc2 = nn.Linear(64,64) #input of fc2 is output of fc1, i.e. 64\n",
    "        self.fc3 = nn.Linear(64,64)\n",
    "        self.fc4 = nn.Linear(64,10) #output 10 because we have 10 classes in our dict\n",
    "    \n",
    "    def forward(self,x):\n",
    "        x = F.relu(self.fc1(x)) #relu is the rectified linear. it is an activation function that ensures the neuron is 'firing'\n",
    "        x = F.relu(self.fc2(x))      \n",
    "        x = F.relu(self.fc3(x))\n",
    "        x = self.fc4(x)\n",
    "        \n",
    "        return F.log_softmax(x,dim=1) #dim 1 means we are distributing across the output layer tensors\n",
    "        \n",
    "net = Net()\n",
    "print(net)"
   ]
  },
  {
   "cell_type": "markdown",
   "metadata": {},
   "source": [
    "The data used from Pytorch is a nice fancy object that is making our life easy, We just need to iterate over it. Next, we want to calculate loss and specify our optimiser:"
   ]
  },
  {
   "cell_type": "code",
   "execution_count": 11,
   "metadata": {},
   "outputs": [],
   "source": [
    "import torch.optim as optim\n",
    "\n",
    "loss_function = nn.CrossEntropyLoss()\n",
    "optimizer = optim.Adam(net.parameters(),lr=0.001) #lr is the learning rate. Keep it small so the optimizer doesnt bounce around"
   ]
  },
  {
   "cell_type": "markdown",
   "metadata": {},
   "source": [
    "### One_hot array\n",
    "\n",
    "A one_hot array is an array where only one element is 1 and the rest are 0. The index that is hot is the classification e.g.  \n",
    "[0, 0, 0, 1, 0, 0, 0, 0, 0, 0,] would be 3.\n",
    "\n",
    "### Loss functions\n",
    "\n",
    "Loss functions are a measurement of how far the nn is from the targeted output. A popular one is Mean Squared Error (MSE) but we're trying to use scalar-valued classes.\n",
    "\n",
    "For one_hot, use MSE.\n",
    "For scalar classifications like 0,1,2,3,...,9 use cross entropy.\n",
    "\n",
    "### Optimizer\n",
    "\n",
    "It is the thing that adjusts the model's adjustable parameters like WEIGHTS, slowly over time to fit data. Adam: __ADA__ptive __M__omentum and it is the standard go-to optimizer. Rectified adam is anothe popular one but it is not available in Pytorch yet. Each pass on the entire dataset is called an **EPOCH**. In general there are 3 to 10 EPOCHS. \n",
    "\n",
    "Too few epochs -> model won't learn everything.\n",
    "\n",
    "Too many epochs -> overfitting occurs"
   ]
  },
  {
   "cell_type": "code",
   "execution_count": 12,
   "metadata": {},
   "outputs": [
    {
     "name": "stdout",
     "output_type": "stream",
     "text": [
      "tensor(0.0295, grad_fn=<NllLossBackward>)\n",
      "tensor(0.0686, grad_fn=<NllLossBackward>)\n",
      "tensor(0.0037, grad_fn=<NllLossBackward>)\n"
     ]
    }
   ],
   "source": [
    "for epoch in range(3): #3 full passes over the data\n",
    "    for data in trainset: #'data' is a batch of data\n",
    "        X,y = data #X is a batch of features, y is the batch of targets.\n",
    "        net.zero_grad() #sets gradients to 0 before loss calc. You will do this likely every step.\n",
    "        output = net(X.view(-1,784)) #pass in teh reshaped batch (recall they are 28x28 atm)\n",
    "        loss = F.nll_loss(output,y) #calc and grab the loss value\n",
    "        loss.backward() #apple this loss backwards thru the network parameters\n",
    "        optimizer.step() #attempt to optimise weights to account for loss/gradients\n",
    "    print(loss) #Print loss. hope it declines"
   ]
  },
  {
   "cell_type": "markdown",
   "metadata": {},
   "source": [
    "It is important to do **net.zero_grad()** for every step otherwise the gradients will add up for each pass.\n",
    "\n",
    "### So for each epoch and each batch in our datasets what happens?  \n",
    "1. Grab the features (X) and the labels (y) from the current batch  \n",
    "2. Zero the gradients (net.zero_grad())  \n",
    "3. Pass the data through the network  \n",
    "4. Calculate the loss  \n",
    "5. Adjust weights in the network with hopes of decereasing loss\n",
    "\n",
    "As we iterate, we get loss, which is an important metric but we care about accuracy. So how did we do? Iterate over the test set and measure for correctness by comparing output to target values."
   ]
  },
  {
   "cell_type": "code",
   "execution_count": 13,
   "metadata": {},
   "outputs": [
    {
     "name": "stdout",
     "output_type": "stream",
     "text": [
      "Accuracy: 0.966\n"
     ]
    }
   ],
   "source": [
    "correct = 0\n",
    "total = 0\n",
    "\n",
    "with torch.no_grad():\n",
    "    for data in testset:\n",
    "        X, y = data\n",
    "        output = net(X.view(-1,784))\n",
    "        #print output\n",
    "        for idx, i in enumerate(output):\n",
    "            #print(torch.argmax(i), y[idx])\n",
    "            if torch.argmax(i)==y[idx]:\n",
    "                correct+=1\n",
    "            total +=1\n",
    "            \n",
    "print('Accuracy:',round(correct/total,3))"
   ]
  },
  {
   "cell_type": "code",
   "execution_count": 19,
   "metadata": {},
   "outputs": [
    {
     "data": {
      "image/png": "[encoded data removed]",
      "text/plain": [
       "<Figure size 432x288 with 1 Axes>"
      ]
     },
     "metadata": {
      "needs_background": "light"
     },
     "output_type": "display_data"
    },
    {
     "name": "stdout",
     "output_type": "stream",
     "text": [
      "tensor(7)\n"
     ]
    }
   ],
   "source": [
    "import matplotlib.pyplot as plt\n",
    "\n",
    "plt.imshow(X[0].view(28,28))\n",
    "plt.show()\n",
    "\n",
    "print(torch.argmax(net(X[0].view(-1,784))[0]))"
   ]
  },
  {
   "cell_type": "markdown",
   "metadata": {},
   "source": [
    "What `print(torch.argmax(net(X[0].view(-1,784))[0]))` is doing:  \n",
    "\n",
    "1. Takes in the featureset X[0]\n",
    "2. Reshape it as a 1x784 tensor for the network.\n",
    "3. Gets the output (list of network predictions) after passing through the network. This is due to the \\__init\\__ function.\n",
    "4. The first prediction is the 0th element in the output.\n",
    "5. The prediction is the largest value in this tensor.\n"
   ]
  },
  {
   "cell_type": "code",
   "execution_count": null,
   "metadata": {},
   "outputs": [],
   "source": []
  }
 ],
 "metadata": {
  "kernelspec": {
   "display_name": "Python 3",
   "language": "python",
   "name": "python3"
  },
  "language_info": {
   "codemirror_mode": {
    "name": "ipython",
    "version": 3
   },
   "file_extension": ".py",
   "mimetype": "text/x-python",
   "name": "python",
   "nbconvert_exporter": "python",
   "pygments_lexer": "ipython3",
   "version": "3.8.5"
  }
 },
 "nbformat": 4,
 "nbformat_minor": 4
}
